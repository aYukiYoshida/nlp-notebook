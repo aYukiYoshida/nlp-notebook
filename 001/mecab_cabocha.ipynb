{
 "cells": [
  {
   "cell_type": "markdown",
   "metadata": {},
   "source": [
    "# MeCab & CaboCha"
   ]
  },
  {
   "cell_type": "markdown",
   "metadata": {},
   "source": [
    "## CONTENTS\n",
    "\n",
    "* [MeCab](#MeCabによる形態素解析)\n",
    "* [CaboCha](#CaboChaによる係り受け解析)"
   ]
  },
  {
   "cell_type": "markdown",
   "metadata": {},
   "source": [
    "## MeCabによる形態素解析"
   ]
  },
  {
   "cell_type": "markdown",
   "metadata": {},
   "source": [
    "### 形態素解析とは\n",
    "\n",
    "文法的な情報の注記の無い自然言語の文から、対象言語の文法や、辞書と呼ばれる単語の品詞等の情報にもとづき、  \n",
    "形態素(おおまかにいえば、言語で意味を持つ最小単位)に分割し、それぞれの形態素の品詞等を判別する作業。\n",
    "\n",
    "\n",
    "<img src=\"./figures/explain-morpheme.png\" width=\"70%\" height=\"70%\"/>\n"
   ]
  },
  {
   "cell_type": "markdown",
   "metadata": {},
   "source": [
    "### [MeCab(和布蕪)](https://taku910.github.io/mecab/)\n",
    "\n",
    "オープンソース形態素解析エンジン"
   ]
  },
  {
   "cell_type": "code",
   "execution_count": 1,
   "metadata": {},
   "outputs": [],
   "source": [
    "import MeCab"
   ]
  },
  {
   "cell_type": "markdown",
   "metadata": {},
   "source": [
    "#### とりあえず解析"
   ]
  },
  {
   "cell_type": "markdown",
   "metadata": {},
   "source": [
    "`MeCab.Tagger` クラスインスタンスを生成して、 `parse` というメソッドを用いて、形態素解析の結果を文字列として得ることができる。  \n",
    "MeCabでは、一行一文を前提に解析が行われる。"
   ]
  },
  {
   "cell_type": "code",
   "execution_count": 2,
   "metadata": {},
   "outputs": [],
   "source": [
    "tagger = MeCab.Tagger()\n",
    "sentence = 'いま働いている会社は最悪な会社だと思う'\n",
    "parse = tagger.parse(sentence)"
   ]
  },
  {
   "cell_type": "code",
   "execution_count": 3,
   "metadata": {},
   "outputs": [
    {
     "name": "stdout",
     "output_type": "stream",
     "text": [
      "いま\t名詞,副詞可能,*,*,*,*,いま,イマ,イマ\n",
      "働い\t動詞,自立,*,*,五段・カ行イ音便,連用タ接続,働く,ハタライ,ハタライ\n",
      "て\t助詞,接続助詞,*,*,*,*,て,テ,テ\n",
      "いる\t動詞,非自立,*,*,一段,基本形,いる,イル,イル\n",
      "会社\t名詞,一般,*,*,*,*,会社,カイシャ,カイシャ\n",
      "は\t助詞,係助詞,*,*,*,*,は,ハ,ワ\n",
      "最悪\t名詞,形容動詞語幹,*,*,*,*,最悪,サイアク,サイアク\n",
      "な\t助動詞,*,*,*,特殊・ダ,体言接続,だ,ナ,ナ\n",
      "会社\t名詞,一般,*,*,*,*,会社,カイシャ,カイシャ\n",
      "だ\t助動詞,*,*,*,特殊・ダ,基本形,だ,ダ,ダ\n",
      "と\t助詞,格助詞,引用,*,*,*,と,ト,ト\n",
      "思う\t動詞,自立,*,*,五段・ワ行促音便,基本形,思う,オモウ,オモウ\n",
      "EOS\n",
      "\n"
     ]
    }
   ],
   "source": [
    "print(parse)"
   ]
  },
  {
   "cell_type": "code",
   "execution_count": 4,
   "metadata": {},
   "outputs": [
    {
     "data": {
      "text/plain": [
       "str"
      ]
     },
     "execution_count": 4,
     "metadata": {},
     "output_type": "execute_result"
    }
   ],
   "source": [
    "type(parse)"
   ]
  },
  {
   "cell_type": "markdown",
   "metadata": {},
   "source": [
    "#### 各形態素の詳細情報の取得"
   ]
  },
  {
   "cell_type": "markdown",
   "metadata": {},
   "source": [
    "`MeCab.Tagger` クラスインスタンスの `parseToNode` というメソッドにより、  \n",
    "<u>**文頭**</u>という特別な形態素が、 `MeCab.Node` クラスインスタンスとして取得できる。"
   ]
  },
  {
   "cell_type": "code",
   "execution_count": 5,
   "metadata": {},
   "outputs": [],
   "source": [
    "tagger = MeCab.Tagger()\n",
    "tagger.parse('') # MeCabのバグ対応\n",
    "node = tagger.parseToNode(sentence)"
   ]
  },
  {
   "cell_type": "code",
   "execution_count": 6,
   "metadata": {},
   "outputs": [
    {
     "data": {
      "text/plain": [
       "MeCab.Node"
      ]
     },
     "execution_count": 6,
     "metadata": {},
     "output_type": "execute_result"
    }
   ],
   "source": [
    "type(node)"
   ]
  },
  {
   "cell_type": "markdown",
   "metadata": {},
   "source": [
    "MeCab.Node クラスインスタンスは、双方向リストとして表現されていて、 `next` 、 `prev` という属性がある。  \n",
    "それぞれ、次の形態素、前の形態素を `MeCab.Node` クラスインスタンスとして取得できる。  \n",
    "また、形態素の文字列情報と素性情報は、`MeCab.Node` クラスインスタンスの `surface` 、 `feature` という属性により取得できる。"
   ]
  },
  {
   "cell_type": "code",
   "execution_count": 7,
   "metadata": {},
   "outputs": [
    {
     "name": "stdout",
     "output_type": "stream",
     "text": [
      "いま\n"
     ]
    }
   ],
   "source": [
    "print(node.next.surface)"
   ]
  },
  {
   "cell_type": "markdown",
   "metadata": {},
   "source": [
    "ここで、 `parseToNode` で取得した初めの `node` は、 BOS(beginning of sentence) として空文字列('') として取得されるので、注意。  \n",
    "行末の `node` も、EOS(end of sentence)として空文字列('') として取得される。"
   ]
  },
  {
   "cell_type": "code",
   "execution_count": 8,
   "metadata": {},
   "outputs": [],
   "source": [
    "node = node.next.next"
   ]
  },
  {
   "cell_type": "code",
   "execution_count": 9,
   "metadata": {},
   "outputs": [
    {
     "name": "stdout",
     "output_type": "stream",
     "text": [
      "1:いま 2:働い 3:て\n"
     ]
    }
   ],
   "source": [
    "print(f'1:{node.prev.surface} 2:{node.surface} 3:{node.next.surface}')"
   ]
  },
  {
   "cell_type": "markdown",
   "metadata": {},
   "source": [
    "一文の全形態素の文字列情報と素性情報を取得したい場合は、以下の様にするとよい。"
   ]
  },
  {
   "cell_type": "code",
   "execution_count": 10,
   "metadata": {},
   "outputs": [],
   "source": [
    "node = tagger.parseToNode(sentence)\n",
    "\n",
    "surface_list = list()\n",
    "feature_list = list()\n",
    "\n",
    "while node:\n",
    "    surface_list.append(node.surface)\n",
    "    feature_list.append(node.feature)\n",
    "    node = node.next"
   ]
  },
  {
   "cell_type": "code",
   "execution_count": 11,
   "metadata": {},
   "outputs": [
    {
     "data": {
      "text/plain": [
       "['', 'いま', '働い', 'て', 'いる', '会社', 'は', '最悪', 'な', '会社', 'だ', 'と', '思う', '']"
      ]
     },
     "execution_count": 11,
     "metadata": {},
     "output_type": "execute_result"
    }
   ],
   "source": [
    "surface_list"
   ]
  },
  {
   "cell_type": "code",
   "execution_count": 12,
   "metadata": {},
   "outputs": [
    {
     "data": {
      "text/plain": [
       "['BOS/EOS,*,*,*,*,*,*,*,*',\n",
       " '名詞,副詞可能,*,*,*,*,いま,イマ,イマ',\n",
       " '動詞,自立,*,*,五段・カ行イ音便,連用タ接続,働く,ハタライ,ハタライ',\n",
       " '助詞,接続助詞,*,*,*,*,て,テ,テ',\n",
       " '動詞,非自立,*,*,一段,基本形,いる,イル,イル',\n",
       " '名詞,一般,*,*,*,*,会社,カイシャ,カイシャ',\n",
       " '助詞,係助詞,*,*,*,*,は,ハ,ワ',\n",
       " '名詞,形容動詞語幹,*,*,*,*,最悪,サイアク,サイアク',\n",
       " '助動詞,*,*,*,特殊・ダ,体言接続,だ,ナ,ナ',\n",
       " '名詞,一般,*,*,*,*,会社,カイシャ,カイシャ',\n",
       " '助動詞,*,*,*,特殊・ダ,基本形,だ,ダ,ダ',\n",
       " '助詞,格助詞,引用,*,*,*,と,ト,ト',\n",
       " '動詞,自立,*,*,五段・ワ行促音便,基本形,思う,オモウ,オモウ',\n",
       " 'BOS/EOS,*,*,*,*,*,*,*,*']"
      ]
     },
     "execution_count": 12,
     "metadata": {},
     "output_type": "execute_result"
    }
   ],
   "source": [
    "feature_list"
   ]
  },
  {
   "cell_type": "markdown",
   "metadata": {},
   "source": [
    "形態素の品詞を抜き出したければ、以下のようにする。"
   ]
  },
  {
   "cell_type": "code",
   "execution_count": 13,
   "metadata": {},
   "outputs": [
    {
     "data": {
      "text/plain": [
       "['BOS/EOS',\n",
       " '名詞',\n",
       " '動詞',\n",
       " '助詞',\n",
       " '動詞',\n",
       " '名詞',\n",
       " '助詞',\n",
       " '名詞',\n",
       " '助動詞',\n",
       " '名詞',\n",
       " '助動詞',\n",
       " '助詞',\n",
       " '動詞',\n",
       " 'BOS/EOS']"
      ]
     },
     "execution_count": 13,
     "metadata": {},
     "output_type": "execute_result"
    }
   ],
   "source": [
    "[ feature.split(',')[0] for feature in feature_list]"
   ]
  },
  {
   "cell_type": "markdown",
   "metadata": {},
   "source": [
    "#### `MeCab.Tagger` "
   ]
  },
  {
   "cell_type": "markdown",
   "metadata": {},
   "source": [
    "##### **クラスのコンストラクタの引数**\n",
    "\n",
    "全ての引数は、公式の[こちら](https://taku910.github.io/mecab/mecab.html)を参照のこと。  \n",
    "基本的には、コマンドライン実行形式の引数に同じ。  \n",
    "以下には、よく使うものを列挙"
   ]
  },
  {
   "cell_type": "markdown",
   "metadata": {},
   "source": [
    "* `-r`, `--rcfile=FILE`  \n",
    "mecabの設定ファイルとして使用するものを指定する\n",
    "* `-d`, `--dicdir=DIR`  \n",
    "システムディクショナリのディレクトリを指定する。\n",
    "    ```\n",
    "    tagger = MeCab.Tagger('-d /usr/local/lib/mecab/dic/ipadic')\n",
    "    ```\n",
    "* `-u`, `--userdic=FILE`  \n",
    "ユーザーディクショナリのファイルを指定する。\n",
    "    ```\n",
    "    tagger = MeCab.Tagger('-u ./usr-mecab-ipadic-neologd.dic')\n",
    "    ```"
   ]
  },
  {
   "cell_type": "markdown",
   "metadata": {},
   "source": [
    "##### **method/attribute**\n",
    "\n",
    "MeCab.Tagger クラスのは[こちら](https://taku910.github.io/mecab/bindings.html)を参照のこと"
   ]
  },
  {
   "cell_type": "markdown",
   "metadata": {},
   "source": [
    "## CaboChaによる係り受け解析"
   ]
  },
  {
   "cell_type": "markdown",
   "metadata": {},
   "source": [
    "### 係り受け解析とは\n",
    "\n",
    "文法的な情報の注記の無い自然言語の文から、対象言語の文法や、辞書と呼ばれる単語の品詞等の情報にもとづき、  \n",
    "文節 (日本語の文法においては、文を細かく区切った際に不自然にならない最小単位。単語よりは大きい)に分割し、  \n",
    "それぞれの修飾・被修飾関係を判別する作業。\n",
    "\n",
    "<img src=\"./figures/explain-modification.png\" width=\"45%\" height=\"45%\"/>"
   ]
  },
  {
   "cell_type": "markdown",
   "metadata": {},
   "source": [
    "### [CaboCha(南瓜)](http://taku910.github.io/cabocha/)\n",
    "\n",
    "CaboChaは、日本語係り受け解析器"
   ]
  },
  {
   "cell_type": "code",
   "execution_count": 14,
   "metadata": {},
   "outputs": [],
   "source": [
    "import CaboCha"
   ]
  },
  {
   "cell_type": "markdown",
   "metadata": {},
   "source": [
    "#### とりあえず係り受け解析\n",
    "\n",
    "`CaboCha.Parser` クラスインスタンスを生成して、`parse` というメソッドを用いて、係り受け解析の結果を `CaboCha.Tree` クラスインスタンスとして得ることができる。  \n",
    "`CaboCha.Tree` クラスインスタンスの `toString` というメソッドを用いて、解析結果を文字列として取得できる。  "
   ]
  },
  {
   "cell_type": "code",
   "execution_count": 15,
   "metadata": {},
   "outputs": [],
   "source": [
    "parser = CaboCha.Parser()\n",
    "sentence = 'いま働いている会社は最悪な会社だと思う'\n",
    "tree = parser.parse(sentence)\n",
    "result = tree.toString(CaboCha.FORMAT_TREE)"
   ]
  },
  {
   "cell_type": "code",
   "execution_count": 16,
   "metadata": {},
   "outputs": [
    {
     "name": "stdout",
     "output_type": "stream",
     "text": [
      "      いま-D        \n",
      "  働いている-D      \n",
      "        会社は---D  \n",
      "          最悪な-D  \n",
      "          会社だと-D\n",
      "                思う\n",
      "EOS\n",
      "\n"
     ]
    }
   ],
   "source": [
    "print(result)"
   ]
  },
  {
   "cell_type": "code",
   "execution_count": 17,
   "metadata": {},
   "outputs": [
    {
     "data": {
      "text/plain": [
       "str"
      ]
     },
     "execution_count": 17,
     "metadata": {},
     "output_type": "execute_result"
    }
   ],
   "source": [
    "type(result)"
   ]
  },
  {
   "cell_type": "markdown",
   "metadata": {},
   "source": [
    "#### 各形態素の詳細情報の取得\n",
    "\n",
    "形態素のデータを取得するには、`parse` メソッドで得られた `CaboCha.Tree` クラスインスタンスの、 `token()` メソッドを用いれば良い。  \n",
    "このメソッドの引数は、int型で、何番目の<u>**形態素**</u>を取得するかの値をとる。  \n",
    "解析の結果得られた、全形態素数は、`CaboCha.Tree` クラスインスタンスの、 `token_size` メソッドにより取得できる。  \n",
    "形態素のデータは、 `CaboCha.Token` クラスインスタンスとして、以下のように取得できる。  "
   ]
  },
  {
   "cell_type": "code",
   "execution_count": 18,
   "metadata": {},
   "outputs": [],
   "source": [
    "token_list = [ tree.token(n) for n in range(tree.token_size())]"
   ]
  },
  {
   "cell_type": "code",
   "execution_count": 19,
   "metadata": {},
   "outputs": [
    {
     "data": {
      "text/plain": [
       "CaboCha.Token"
      ]
     },
     "execution_count": 19,
     "metadata": {},
     "output_type": "execute_result"
    }
   ],
   "source": [
    "type(token_list[0])"
   ]
  },
  {
   "cell_type": "markdown",
   "metadata": {},
   "source": [
    "`CaboCha.Token` クラスインスタンスの `surface` 、 `feature` という属性により形態素の文字列情報と素性情報を取得できる。"
   ]
  },
  {
   "cell_type": "code",
   "execution_count": 20,
   "metadata": {},
   "outputs": [
    {
     "data": {
      "text/plain": [
       "['いま', '働い', 'て', 'いる', '会社', 'は', '最悪', 'な', '会社', 'だ', 'と', '思う']"
      ]
     },
     "execution_count": 20,
     "metadata": {},
     "output_type": "execute_result"
    }
   ],
   "source": [
    "surface_list = [ token.surface for token in token_list]\n",
    "surface_list"
   ]
  },
  {
   "cell_type": "code",
   "execution_count": 21,
   "metadata": {},
   "outputs": [
    {
     "data": {
      "text/plain": [
       "['名詞,副詞可能,*,*,*,*,いま,イマ,イマ',\n",
       " '動詞,自立,*,*,五段・カ行イ音便,連用タ接続,働く,ハタライ,ハタライ',\n",
       " '助詞,接続助詞,*,*,*,*,て,テ,テ',\n",
       " '動詞,非自立,*,*,一段,基本形,いる,イル,イル',\n",
       " '名詞,一般,*,*,*,*,会社,カイシャ,カイシャ',\n",
       " '助詞,係助詞,*,*,*,*,は,ハ,ワ',\n",
       " '名詞,形容動詞語幹,*,*,*,*,最悪,サイアク,サイアク',\n",
       " '助動詞,*,*,*,特殊・ダ,体言接続,だ,ナ,ナ',\n",
       " '名詞,一般,*,*,*,*,会社,カイシャ,カイシャ',\n",
       " '助動詞,*,*,*,特殊・ダ,基本形,だ,ダ,ダ',\n",
       " '助詞,格助詞,引用,*,*,*,と,ト,ト',\n",
       " '動詞,自立,*,*,五段・ワ行促音便,基本形,思う,オモウ,オモウ']"
      ]
     },
     "execution_count": 21,
     "metadata": {},
     "output_type": "execute_result"
    }
   ],
   "source": [
    "feature_list = [ token.feature for token in token_list]\n",
    "feature_list"
   ]
  },
  {
   "cell_type": "markdown",
   "metadata": {},
   "source": [
    "結果をみるとわかるように、CaboCha での係り受け解析には、形態素解析が実施されている。このとき MeCab が使用されている。"
   ]
  },
  {
   "cell_type": "markdown",
   "metadata": {},
   "source": [
    "#### 文節の詳細情報の取得\n",
    "\n",
    "係り受け解析の末得られた文節のデータを取得するには、`parse` メソッドで得られた `CaboCha.Tree` クラスインスタンスの、`chunk` メソッドを用いれば良い。  \n",
    "このメソッドの引数は、int型で、何番目の<u>**文節**</u>を取得するかの値をとる。  \n",
    "解析の結果得られた、全文節数は、`CaboCha.Tree` クラスインスタンスの、`chunk_size` メソッドにより取得できる。  \n",
    "文節のデータは、`CaboCha.Chunk` クラスインスタンスとして、以下のように取得できる。"
   ]
  },
  {
   "cell_type": "code",
   "execution_count": 22,
   "metadata": {},
   "outputs": [],
   "source": [
    "chunk_list = [ tree.chunk(n) for n in range(tree.chunk_size()) ]"
   ]
  },
  {
   "cell_type": "code",
   "execution_count": 23,
   "metadata": {},
   "outputs": [
    {
     "data": {
      "text/plain": [
       "CaboCha.Chunk"
      ]
     },
     "execution_count": 23,
     "metadata": {},
     "output_type": "execute_result"
    }
   ],
   "source": [
    "type(chunk_list[0])"
   ]
  },
  {
   "cell_type": "markdown",
   "metadata": {},
   "source": [
    "とある文節がどの文節にかかっているかは、 `link` という属性により取得できる。"
   ]
  },
  {
   "cell_type": "code",
   "execution_count": 24,
   "metadata": {},
   "outputs": [
    {
     "data": {
      "text/plain": [
       "1"
      ]
     },
     "execution_count": 24,
     "metadata": {},
     "output_type": "execute_result"
    }
   ],
   "source": [
    "chunk_list[0].link"
   ]
  },
  {
   "cell_type": "markdown",
   "metadata": {},
   "source": [
    "この場合、一番目の文節は、二番目の文節にかかっている事になる。どの文節にもかからない場合は、 0 が返る。"
   ]
  },
  {
   "cell_type": "markdown",
   "metadata": {},
   "source": [
    "また、各文節の文字列情報と素性情報を取得するメソッドは、`CaboCha.Chunk` クラスインスタンスには用意されていない。  \n",
    "そのため、形態素のデータと組み合わせて取得することになる。\n",
    "\n",
    "各文節に含まれる形態素の数は、 `CaboCha.Chunk` クラスインスタンスの `token_size` という属性により取得できる。  \n",
    "また、ひとつの文節中の一番初めの形態素の全形態素中でのインデックスを `token_pos` という属性により取得できる。"
   ]
  },
  {
   "cell_type": "code",
   "execution_count": 25,
   "metadata": {},
   "outputs": [
    {
     "data": {
      "text/plain": [
       "2"
      ]
     },
     "execution_count": 25,
     "metadata": {},
     "output_type": "execute_result"
    }
   ],
   "source": [
    "chunk_list[2].token_size"
   ]
  },
  {
   "cell_type": "code",
   "execution_count": 26,
   "metadata": {},
   "outputs": [
    {
     "data": {
      "text/plain": [
       "4"
      ]
     },
     "execution_count": 26,
     "metadata": {},
     "output_type": "execute_result"
    }
   ],
   "source": [
    "chunk_list[2].token_pos"
   ]
  },
  {
   "cell_type": "markdown",
   "metadata": {},
   "source": [
    "これらの値を用いて、以下のように文節を取得できる。"
   ]
  },
  {
   "cell_type": "code",
   "execution_count": 27,
   "metadata": {},
   "outputs": [
    {
     "data": {
      "text/plain": [
       "['いま', '働いている', '会社は', '最悪な', '会社だと', '思う']"
      ]
     },
     "execution_count": 27,
     "metadata": {},
     "output_type": "execute_result"
    }
   ],
   "source": [
    "paragraph = [ str().join(surface_list[chunk.token_pos:chunk.token_pos+chunk.token_size]) for chunk in chunk_list ]\n",
    "paragraph"
   ]
  },
  {
   "cell_type": "markdown",
   "metadata": {},
   "source": [
    "#### 係り受けの関係の取得\n",
    "\n",
    "係り受けの関係をまとめる方法の一例として以下の方法を挙げる。"
   ]
  },
  {
   "cell_type": "code",
   "execution_count": 28,
   "metadata": {},
   "outputs": [
    {
     "name": "stdout",
     "output_type": "stream",
     "text": [
      "いま -> 働いている\n",
      "働いている -> 会社は\n",
      "会社は -> 会社だと\n",
      "最悪な -> 会社だと\n",
      "会社だと -> 思う\n"
     ]
    }
   ],
   "source": [
    "chunk_link_list = np.array([ chunk.link for chunk in chunk_list ])\n",
    "paragraph = np.array(paragraph)\n",
    "dependency = dict(zip(paragraph[chunk_link_list >= 0],paragraph[chunk_link_list[chunk_link_list >= 0]]))\n",
    "for active, passive in dependency.items():\n",
    "    print(f'{active} -> {passive}')"
   ]
  },
  {
   "cell_type": "markdown",
   "metadata": {},
   "source": [
    "#### `CaboCha.Parser`"
   ]
  },
  {
   "cell_type": "markdown",
   "metadata": {},
   "source": [
    "##### **クラスのコンストラクタの引数**\n",
    "\n",
    "全ての引数は、公式の[こちら](http://taku910.github.io/cabocha/)の**コマンドラインオプション**の項を参照のこと。  \n",
    "よく使いそうなものを以下に挙げる。  \n",
    "\n",
    "* `-d`, `--mecab-dicdir=DIR`  \n",
    "システムディクショナリのディレクトリを指定する。\n",
    "```\n",
    "tagger = CaboCha.Parser('-d /usr/local/lib/mecab/dic/ipadic')\n",
    "```"
   ]
  }
 ],
 "metadata": {
  "kernelspec": {
   "display_name": "Python 3.7.7 64-bit",
   "language": "python",
   "name": "python37764bitdb6892cc5aef4b6cb600b7b49b780522"
  },
  "language_info": {
   "codemirror_mode": {
    "name": "ipython",
    "version": 3
   },
   "file_extension": ".py",
   "mimetype": "text/x-python",
   "name": "python",
   "nbconvert_exporter": "python",
   "pygments_lexer": "ipython3",
   "version": "3.7.7"
  }
 },
 "nbformat": 4,
 "nbformat_minor": 4
}
